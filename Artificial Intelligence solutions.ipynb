{
 "cells": [
  {
   "cell_type": "markdown",
   "metadata": {},
   "source": [
    "# 1. Correlation and Regression Lines - A Quick Recap #1"
   ]
  },
  {
   "cell_type": "code",
   "execution_count": 3,
   "metadata": {},
   "outputs": [
    {
     "name": "stdout",
     "output_type": "stream",
     "text": [
      "0.145\n"
     ]
    }
   ],
   "source": [
    "import math as m\n",
    "def mean(data):\n",
    "    return sum(data) / len(data)\n",
    "\n",
    "def var(data):\n",
    "    sum = 0\n",
    "    for i in range(len(data)):\n",
    "        sum = sum + (data[i] - mean(data)) ** 2\n",
    "    return sum\n",
    "\n",
    "def cov(data1, data2):\n",
    "    sum = 0\n",
    "    for i in range(len(data1)):\n",
    "        sum += (data1[i] - mean(data1)) * (data2[i] - mean(data2))\n",
    "    return sum\n",
    "\n",
    "# Set data\n",
    "physics = [15.0, 12.0, 8.0, 8.0, 7.0, 7.0, 7.0, 6.0, 5.0, 3.0]\n",
    "history = [10.0, 25.0, 17.0, 11.0, 13.0, 17.0, 20.0, 13.0, 9.0, 15.0]\n",
    "\n",
    "mean_physics = mean(physics)\n",
    "mean_history = mean(history)\n",
    "\n",
    "var_physics = var(physics)\n",
    "var_history = var(history)\n",
    "\n",
    "cov = cov(physics, history)\n",
    "std = m.sqrt(var_physics * var_history)\n",
    "\n",
    "# Correlation\n",
    "r = cov / std\n",
    "print(round(r, 3))"
   ]
  },
  {
   "cell_type": "markdown",
   "metadata": {},
   "source": [
    "# 2. Correlation and Regression Lines - A Quick Recap #2\n"
   ]
  },
  {
   "cell_type": "code",
   "execution_count": 4,
   "metadata": {},
   "outputs": [
    {
     "name": "stdout",
     "output_type": "stream",
     "text": [
      "0.208\n"
     ]
    }
   ],
   "source": [
    "def mean(data):\n",
    "    return sum(data) / len(data)\n",
    "\n",
    "# Set data\n",
    "physics = [15.0, 12.0, 8.0, 8.0, 7.0, 7.0, 7.0, 6.0, 5.0, 3.0]\n",
    "history = [10.0, 25.0, 17.0, 11.0, 13.0, 17.0, 20.0, 13.0, 9.0, 15.0]\n",
    "\n",
    "mean_physics = mean(physics)\n",
    "mean_history = mean(history)\n",
    "\n",
    "var_physics = sum([(p - mean_physics) ** 2 for p in physics])\n",
    "sum_phy_his = 0\n",
    "for i in range(len(physics)):\n",
    "    sum_phy_his += (physics[i] - mean_physics) * (history[i] - mean_history)\n",
    "\n",
    "# slope = Σ(x - mean(x)) * (y - mean(y)) / Σ (x - mean(x))²\n",
    "slope = sum_phy_his / var_physics\n",
    "print(round(slope, 3))"
   ]
  },
  {
   "cell_type": "markdown",
   "metadata": {},
   "source": [
    "# 3. Correlation and Regression Lines - A Quick Recap #3\n"
   ]
  },
  {
   "cell_type": "code",
   "execution_count": 5,
   "metadata": {},
   "outputs": [
    {
     "name": "stdout",
     "output_type": "stream",
     "text": [
      "15.5\n"
     ]
    }
   ],
   "source": [
    "def mean(data):\n",
    "    return sum(data) / len(data)\n",
    "\n",
    "# Set data\n",
    "physics = [15.0, 12.0, 8.0, 8.0, 7.0, 7.0, 7.0, 6.0, 5.0, 3.0]\n",
    "history = [10.0, 25.0, 17.0, 11.0, 13.0, 17.0, 20.0, 13.0, 9.0, 15.0]\n",
    "\n",
    "mean_physics = mean(physics)\n",
    "mean_history = mean(history)\n",
    "\n",
    "var_physics = sum([(p - mean_physics) ** 2 for p in physics])\n",
    "sum_phy_his = 0\n",
    "for i in range(len(physics)):\n",
    "    sum_phy_his += (physics[i] - mean_physics) * (history[i] - mean_history)\n",
    "\n",
    "# b = Σ(x - mean(x)) * (y - mean(y)) / Σ (x - mean(x))²\n",
    "b = sum_phy_his / var_physics\n",
    "\n",
    "# physics is x, variable independent\n",
    "# history is y, variable dependent\n",
    "# a = mean(y) - b * mean(x)\n",
    "a = mean_history - b * mean_physics\n",
    "\n",
    "# Y = b * X + a\n",
    "result = b * 10 + a\n",
    "print(round(result,1))"
   ]
  },
  {
   "cell_type": "markdown",
   "metadata": {},
   "source": [
    "# 4. Correlation and Regression Lines - A Quick Recap #4\n"
   ]
  },
  {
   "cell_type": "code",
   "execution_count": null,
   "metadata": {},
   "outputs": [],
   "source": [
    "y = 7\n",
    "\n",
    "# 20x – 9y – 107 = 0\n",
    "val_x = (9 * y + 107) / 20\n",
    "\n",
    "# Result: 8.5\n",
    "print (round(val_x, 1))"
   ]
  },
  {
   "cell_type": "markdown",
   "metadata": {},
   "source": [
    "# 5. Correlation and Regression Lines - A Quick Recap #5\n"
   ]
  },
  {
   "cell_type": "code",
   "execution_count": 6,
   "metadata": {},
   "outputs": [
    {
     "name": "stdout",
     "output_type": "stream",
     "text": [
      "4.0\n"
     ]
    }
   ],
   "source": [
    "byx = 4/5\n",
    "bxy = 9/20\n",
    "import math\n",
    "r = math.sqrt(byx*bxy)\n",
    "var_x = 3\n",
    "var_y= (byx*var_x)/r\n",
    "print(var_y)"
   ]
  },
  {
   "cell_type": "code",
   "execution_count": null,
   "metadata": {},
   "outputs": [],
   "source": []
  },
  {
   "cell_type": "code",
   "execution_count": null,
   "metadata": {},
   "outputs": [],
   "source": []
  },
  {
   "cell_type": "code",
   "execution_count": null,
   "metadata": {},
   "outputs": [],
   "source": []
  }
 ],
 "metadata": {
  "kernelspec": {
   "display_name": "Python 3",
   "language": "python",
   "name": "python3"
  }
 },
 "nbformat": 4,
 "nbformat_minor": 2
}
