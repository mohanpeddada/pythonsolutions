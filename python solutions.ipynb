{
 "cells": [
  {
   "cell_type": "markdown",
   "metadata": {},
   "source": [
    "# 1. Find angle MBC"
   ]
  },
  {
   "cell_type": "code",
   "execution_count": null,
   "metadata": {},
   "outputs": [],
   "source": [
    "import math\n",
    "ab = float(input())\n",
    "bc = float(input())\n",
    "ac = math.sqrt((ab**2)+(bc**2))\n",
    "bm = ac / 2.0\n",
    "mc = bm\n",
    "#let, \n",
    "a = bm\n",
    "b = bc\n",
    "c = mc\n",
    "#where a=c\n",
    "angle_c_radian = math.acos(b / (2*c))\n",
    "angle_c_degree = int(round((180 * angel_c_radian) / math.pi))\n",
    "output = str(angel_c_degree)+'°'\n",
    "print(output)"
   ]
  },
  {
   "cell_type": "markdown",
   "metadata": {},
   "source": [
    "# 2. Validating Credi card numbers"
   ]
  },
  {
   "cell_type": "code",
   "execution_count": null,
   "metadata": {},
   "outputs": [],
   "source": [
    "import re\n",
    "i = int(input())\n",
    "for c in range(i):\n",
    "    credit = input().strip()\n",
    "    credit_removed_hiphen = credit.replace('-','')\n",
    "    valid = True\n",
    "    length_16 = bool(re.match(r'^[4-6]\\d{15}$',credit))\n",
    "    length_19 = bool(re.match(r'^[4-6]\\d{3}-\\d{4}-\\d{4}-\\d{4}$',credit))    \n",
    "    consecutive = bool(re.findall(r'(?=(\\d)\\1\\1\\1)',credit_removed_hiphen))\n",
    "    if length_16 == True or length_19 == True:\n",
    "        if consecutive == True:\n",
    "            valid=False\n",
    "    else:\n",
    "        valid = False       \n",
    "    if valid == True:\n",
    "        print('Valid')\n",
    "    else:\n",
    "        print('Invalid')"
   ]
  },
  {
   "cell_type": "markdown",
   "metadata": {},
   "source": [
    "# 3. Regex Substitution"
   ]
  },
  {
   "cell_type": "code",
   "execution_count": null,
   "metadata": {},
   "outputs": [],
   "source": [
    "import re, sys\n",
    "n = int(input())\n",
    "for line in sys.stdin:\n",
    "    remove_and = re.sub(r'(?<= )(&&)(?= )',\"and\",line)\n",
    "    remove_or = re.sub(r'(?<= )(\\|\\|)(?= )',\"or\",remove_and)\n",
    "    print(remove_or,end='')\n"
   ]
  },
  {
   "cell_type": "markdown",
   "metadata": {},
   "source": [
    "# 4. Reduce Function"
   ]
  },
  {
   "cell_type": "code",
   "execution_count": null,
   "metadata": {},
   "outputs": [],
   "source": [
    "from fractions import Fraction\n",
    "from functools import reduce\n",
    "def product(data):\n",
    "    t = Fraction(reduce(lambda x,y : x*y,data))\n",
    "    return t.numerator, t.denominator\n",
    "if __name__ == '__main__':\n",
    "    data = []\n",
    "    for _ in range(int(input())):\n",
    "        data.append(Fraction(*map(int, input().split())))\n",
    "    result = product(data)\n",
    "    print(*result)\n"
   ]
  },
  {
   "cell_type": "markdown",
   "metadata": {},
   "source": [
    "# 5. ginortS"
   ]
  },
  {
   "cell_type": "code",
   "execution_count": null,
   "metadata": {},
   "outputs": [],
   "source": [
    "s = input()\n",
    "s = sorted(s,key = lambda x:(x.isdigit() and int(x)%2==0, x.isdigit(),x.isupper(),x.islower(),x))\n",
    "print(*(s),sep = '')\n"
   ]
  },
  {
   "cell_type": "markdown",
   "metadata": {},
   "source": [
    "# 6. Triangle Quest"
   ]
  },
  {
   "cell_type": "code",
   "execution_count": null,
   "metadata": {},
   "outputs": [],
   "source": [
    "for i in range(1,int(input())):\n",
    "    print((10**i)//9*i)"
   ]
  },
  {
   "cell_type": "markdown",
   "metadata": {},
   "source": [
    "# 7. Piling Up"
   ]
  },
  {
   "cell_type": "code",
   "execution_count": null,
   "metadata": {},
   "outputs": [],
   "source": [
    "from collections import deque\n",
    "data = int(input())\n",
    "for t in range(data):\n",
    "    n = int(input())\n",
    "    dq = deque(map(int,input().split()))\n",
    "    possible = True\n",
    "    element = (2**31)+1\n",
    "    while dq:\n",
    "        left_element = dq[0]\n",
    "        right_element = dq[-1]\n",
    "        if left_element>=right_element and element>=left_element:\n",
    "            element = dq.popleft()\n",
    "        elif right_element>=left_element and element>=right_element:\n",
    "            element = dq.pop()\n",
    "        else:\n",
    "            possible = False\n",
    "            break\n",
    "    if possible:\n",
    "        print('Yes')\n",
    "    else:\n",
    "        print('No')  \n"
   ]
  },
  {
   "cell_type": "markdown",
   "metadata": {},
   "source": [
    "# 8. Compress the string"
   ]
  },
  {
   "cell_type": "code",
   "execution_count": null,
   "metadata": {},
   "outputs": [],
   "source": [
    "import itertools\n",
    "data = input().strip()\n",
    "data_unique_element = list(set(data))\n",
    "group = []\n",
    "key = []\n",
    "for i,c in itertools.groupby(data):\n",
    "    group.append(list(c))\n",
    "    key.append(i)\n",
    "for i in range(len(group)):\n",
    "    group_length = len(group[i])\n",
    "    i = int(key[i])\n",
    "    print(tuple((group_length,i)),end=' ')\n"
   ]
  },
  {
   "cell_type": "markdown",
   "metadata": {},
   "source": [
    "# 9. Iterables and Iterators"
   ]
  },
  {
   "cell_type": "code",
   "execution_count": null,
   "metadata": {},
   "outputs": [],
   "source": [
    "from itertools import combinations\n",
    "n = int(input())\n",
    "ar = input().split()\n",
    "k = int(input())\n",
    "comb_list = list(combinations(ar,k))\n",
    "a_list = [e for e in comb_list if 'a' in e]\n",
    "print(len(a_list) / len(comb_list))\n"
   ]
  },
  {
   "cell_type": "markdown",
   "metadata": {},
   "source": [
    "# 10. The Minion Game"
   ]
  },
  {
   "cell_type": "code",
   "execution_count": null,
   "metadata": {},
   "outputs": [],
   "source": [
    "s = input().strip()\n",
    "s_length = len(s)\n",
    "vowel_list = ['A','E','I','O','U']\n",
    "stuart_point = 0\n",
    "kevin_point = 0\n",
    "for i in range(s_length):\n",
    "    if s[i] in vowel_list:\n",
    "        kevin_point += s_length - i\n",
    "    else:\n",
    "        stuart_point += s_length - i\n",
    "if stuart_point == kevin_point:\n",
    "    print('Draw')\n",
    "elif kevin_point > stuart_point:\n",
    "    print('Kevin',kevin_point)\n",
    "else:\n",
    "    print('Stuart',stuart_point)\n",
    "\n"
   ]
  },
  {
   "cell_type": "code",
   "execution_count": null,
   "metadata": {},
   "outputs": [],
   "source": []
  }
 ],
 "metadata": {
  "kernelspec": {
   "display_name": "Python 3",
   "language": "python",
   "name": "python3"
  },
  "language_info": {
   "codemirror_mode": {
    "name": "ipython",
    "version": 3
   },
   "file_extension": ".py",
   "mimetype": "text/x-python",
   "name": "python",
   "nbconvert_exporter": "python",
   "pygments_lexer": "ipython3",
   "version": "3.6.5"
  }
 },
 "nbformat": 4,
 "nbformat_minor": 2
}
